{
 "cells": [
  {
   "cell_type": "markdown",
   "metadata": {},
   "source": [
    "### Import libraries"
   ]
  },
  {
   "cell_type": "code",
   "execution_count": 1,
   "metadata": {},
   "outputs": [],
   "source": [
    "import torch\n",
    "import torch.nn as nn\n",
    "from torch.utils.data import DataLoader\n",
    "import numpy as np\n",
    "import os\n",
    "import data\n",
    "import rnn\n",
    "import warnings\n",
    "warnings.filterwarnings('ignore')"
   ]
  },
  {
   "cell_type": "markdown",
   "metadata": {},
   "source": [
    "### Set device for analysis "
   ]
  },
  {
   "cell_type": "code",
   "execution_count": 2,
   "metadata": {},
   "outputs": [],
   "source": [
    "# CPU or GPU device\n",
    "device = torch.device('cuda' if torch.cuda.is_available() else 'cpu')"
   ]
  },
  {
   "cell_type": "markdown",
   "metadata": {},
   "source": [
    "### Load test data and trained model"
   ]
  },
  {
   "cell_type": "code",
   "execution_count": 3,
   "metadata": {},
   "outputs": [
    {
     "name": "stdout",
     "output_type": "stream",
     "text": [
      "Number of epochs in training: 10\n"
     ]
    }
   ],
   "source": [
    "# Load test data\n",
    "ds = data.LabeledDataset(['action', 'alpha', 'beta'],\n",
    "                         path=os.path.join('data', 'synth_test.csv'))\n",
    "\n",
    "# Instantiate Data Loader for test data\n",
    "test_loader = DataLoader(ds, shuffle=False, batch_size=1)\n",
    "\n",
    "# Instantiate RNN model\n",
    "model = rnn.GRU(input_size=ds.nactions+1,\n",
    "                hidden_size=32,\n",
    "                alpha_embedding_size=5,\n",
    "                beta_embedding_size=5,\n",
    "                output_size=ds.nactions,\n",
    "                dropout=0) \n",
    "\n",
    "# Load checkpoint for model inference\n",
    "cp = torch.load(os.path.join('checkpoint', 'synth_trnn_train.pth'),\n",
    "                  map_location='cpu')\n",
    "\n",
    "# Assign model state\n",
    "model.load_state_dict(cp['model_state'])\n",
    "\n",
    "# Change to evaluation mode\n",
    "model.eval()\n",
    "\n",
    "print(f\"Number of epochs in training: {cp['epoch']}\")"
   ]
  },
  {
   "cell_type": "markdown",
   "metadata": {},
   "source": [
    "### Evaluate model on test data"
   ]
  },
  {
   "cell_type": "code",
   "execution_count": 4,
   "metadata": {},
   "outputs": [
    {
     "name": "stdout",
     "output_type": "stream",
     "text": [
      "tRNN BCE loss: 0.41755 +/- 0.16004\n",
      "tRNN MSE alpha loss: 0.70647 +/- 0.04917\n",
      "tRNN MSE beta loss: 0.18445 +/- 0.21062\n"
     ]
    }
   ],
   "source": [
    "# Initialize loss dictionary\n",
    "loss = {'action': {'name': 'BCE', 'values': np.zeros(len(test_loader))},\n",
    "        'alpha': {'name': 'MSE alpha', 'values': np.zeros(len(test_loader))},\n",
    "        'beta': {'name': 'MSE beta', 'values': np.zeros(len(test_loader))}}\n",
    "\n",
    "# Evaluate model on test data\n",
    "for i, (X, y_true) in enumerate(test_loader):\n",
    "    # Forward pass\n",
    "    y_action, _, _, y_alpha, y_beta, _, _ = model(X)\n",
    "    \n",
    "    # Compute loss\n",
    "    loss['action']['values'][i] = nn.BCELoss()(y_action[:,:,0]+1e-10, y_true[0][:,:,0]).item()\n",
    "    loss['alpha']['values'][i] = nn.BCELoss()(y_alpha, y_true[1]).item()\n",
    "    loss['beta']['values'][i] = nn.MSELoss()(y_beta/10, y_true[2]/10).item()\n",
    "\n",
    "# Print losses\n",
    "for l in loss:\n",
    "    print(f\"tRNN {loss[l]['name']} loss: {loss[l]['values'].mean():.5f} +/- {loss[l]['values'].std():.5f}\")"
   ]
  }
 ],
 "metadata": {
  "kernelspec": {
   "display_name": ".venv",
   "language": "python",
   "name": "python3"
  },
  "language_info": {
   "codemirror_mode": {
    "name": "ipython",
    "version": 3
   },
   "file_extension": ".py",
   "mimetype": "text/x-python",
   "name": "python",
   "nbconvert_exporter": "python",
   "pygments_lexer": "ipython3",
   "version": "3.11.4"
  }
 },
 "nbformat": 4,
 "nbformat_minor": 2
}
