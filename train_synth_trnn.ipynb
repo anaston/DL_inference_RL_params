{
 "cells": [
  {
   "cell_type": "markdown",
   "id": "a8af560e",
   "metadata": {},
   "source": [
    "### Import libraries"
   ]
  },
  {
   "cell_type": "code",
   "execution_count": 1,
   "id": "67e92ac7",
   "metadata": {},
   "outputs": [],
   "source": [
    "import os\n",
    "import torch\n",
    "from torch.utils.data import DataLoader\n",
    "from torch.utils.data import random_split\n",
    "import data\n",
    "import rnn\n",
    "import warnings\n",
    "warnings.filterwarnings('ignore')"
   ]
  },
  {
   "cell_type": "markdown",
   "id": "15360d5d",
   "metadata": {},
   "source": [
    "### Set device for analysis"
   ]
  },
  {
   "cell_type": "code",
   "execution_count": 2,
   "id": "447c5560",
   "metadata": {},
   "outputs": [],
   "source": [
    "# CPU or GPU device\n",
    "device = torch.device('cuda' if torch.cuda.is_available() else 'cpu')"
   ]
  },
  {
   "cell_type": "markdown",
   "id": "2d8b957e",
   "metadata": {},
   "source": [
    "### Load training data and split into train and validation sets"
   ]
  },
  {
   "cell_type": "code",
   "execution_count": 3,
   "id": "344859c3",
   "metadata": {},
   "outputs": [],
   "source": [
    "# Create DL dataset\n",
    "ds = data.LabeledDataset(['action', 'alpha_bin', 'beta_bin', 'alpha', 'beta'],\n",
    "                         path=os.path.join('data', 'synth_trainset_20.csv'))\n",
    "# Split dataset\n",
    "train_ds, val_ds = random_split(ds, [0.8,  0.2])"
   ]
  },
  {
   "cell_type": "markdown",
   "id": "271eb859",
   "metadata": {},
   "source": [
    "### Train and validate RNN model"
   ]
  },
  {
   "cell_type": "code",
   "execution_count": 4,
   "id": "43bab64a",
   "metadata": {},
   "outputs": [
    {
     "name": "stdout",
     "output_type": "stream",
     "text": [
      "================\n",
      "loss BCE action: 0.6666927747428417\n",
      "loss CE alpha: 0.32022438757121563\n",
      "loss CE beta: 0.32461406849324703\n",
      "loss MSE alpha: 0.8068663602753077\n",
      "loss MSE beta: 2.4148902175948024\n",
      "Step 1, Train Loss 4.533287808677414, Val Loss 5.289989732205868\n",
      "================\n",
      "loss BCE action: 0.6396625638008118\n",
      "loss CE alpha: 0.32214922085404396\n",
      "loss CE beta: 0.32170724496245384\n",
      "loss MSE alpha: 0.7475513247009076\n",
      "loss MSE beta: 2.3444723011925817\n",
      "Step 2, Train Loss 4.375542655510799, Val Loss 5.149811643641442\n",
      "================\n",
      "loss BCE action: 0.5989931523799896\n",
      "loss CE alpha: 0.3224239610135555\n",
      "loss CE beta: 0.32248274981975555\n",
      "loss MSE alpha: 0.6801362964033615\n",
      "loss MSE beta: 2.2954571917653084\n",
      "Step 3, Train Loss 4.219493351381971, Val Loss 4.971934332192177\n",
      "================\n",
      "loss BCE action: 0.5271183643490076\n",
      "loss CE alpha: 0.321669640019536\n",
      "loss CE beta: 0.3252326771616936\n",
      "loss MSE alpha: 0.6210815255853959\n",
      "loss MSE beta: 2.231542559340596\n",
      "Step 4, Train Loss 4.026644766456229, Val Loss 4.804092554375529\n",
      "================\n",
      "loss BCE action: 0.4895580792799592\n",
      "loss CE alpha: 0.32159798592329025\n",
      "loss CE beta: 0.3313846616074443\n",
      "loss MSE alpha: 0.6013321445207112\n",
      "loss MSE beta: 2.1368662882596254\n",
      "Step 5, Train Loss 3.8807391595910303, Val Loss 4.712648802436888\n",
      "================\n",
      "loss BCE action: 0.48669819068163633\n",
      "loss CE alpha: 0.32198381423950195\n",
      "loss CE beta: 0.3450710726901889\n",
      "loss MSE alpha: 0.60153390141204\n",
      "loss MSE beta: 1.997694747056812\n",
      "Step 6, Train Loss 3.752981726080179, Val Loss 4.573109617689624\n",
      "================\n",
      "loss BCE action: 0.48348122742027044\n",
      "loss CE alpha: 0.32321334816515446\n",
      "loss CE beta: 0.37622122932225466\n",
      "loss MSE alpha: 0.6030013677664101\n",
      "loss MSE beta: 1.7878980069654062\n",
      "Step 7, Train Loss 3.573815179639496, Val Loss 4.370835805224488\n",
      "================\n",
      "loss BCE action: 0.4822206776589155\n",
      "loss CE alpha: 0.3256168458610773\n",
      "loss CE beta: 0.4356935820542276\n",
      "loss MSE alpha: 0.5967979345005006\n",
      "loss MSE beta: 1.4967633109008602\n",
      "Step 8, Train Loss 3.337092350975581, Val Loss 4.141950543387793\n",
      "================\n",
      "loss BCE action: 0.4819551855325699\n",
      "loss CE alpha: 0.3281910438090563\n",
      "loss CE beta: 0.5095160226337612\n",
      "loss MSE alpha: 0.597645832109265\n",
      "loss MSE beta: 1.192424057138851\n",
      "Step 9, Train Loss 3.1097321412235033, Val Loss 3.9737901808694005\n",
      "================\n",
      "loss BCE action: 0.4807194387540221\n",
      "loss CE alpha: 0.32808688282966614\n",
      "loss CE beta: 0.5698604872450233\n",
      "loss MSE alpha: 0.6003502124804072\n",
      "loss MSE beta: 0.9698810920599499\n",
      "Step 10, Train Loss 2.9488981133690686, Val Loss 3.87141618039459\n"
     ]
    }
   ],
   "source": [
    "# Instantiate RNN model\n",
    "model = rnn.GRU(input_size=ds.nactions+1,\n",
    "                hidden_size=32,\n",
    "                alpha_embedding_size=ds.nbins_alpha,\n",
    "                beta_embedding_size=ds.nbins_beta,\n",
    "                output_size=ds.nactions,\n",
    "                dropout=0.2) \n",
    "\n",
    "# Instantiate Data Loaders for traning and validation data\n",
    "train_loader = DataLoader(train_ds, shuffle=False, batch_size=1)\n",
    "val_loader = DataLoader(val_ds, shuffle=False, batch_size=1)\n",
    "\n",
    "# Train RNN model\n",
    "model, train_loss, val_loss = rnn.training_loop(model, device, train_loader, val_loader,\n",
    "                                                'synth_trnn', nepochs=10) "
   ]
  }
 ],
 "metadata": {
  "kernelspec": {
   "display_name": "Python 3 (ipykernel)",
   "language": "python",
   "name": "python3"
  },
  "language_info": {
   "codemirror_mode": {
    "name": "ipython",
    "version": 3
   },
   "file_extension": ".py",
   "mimetype": "text/x-python",
   "name": "python",
   "nbconvert_exporter": "python",
   "pygments_lexer": "ipython3",
   "version": "3.11.4"
  }
 },
 "nbformat": 4,
 "nbformat_minor": 5
}
