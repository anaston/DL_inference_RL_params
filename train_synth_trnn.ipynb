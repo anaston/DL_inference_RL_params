{
 "cells": [
  {
   "cell_type": "markdown",
   "id": "a8af560e",
   "metadata": {},
   "source": [
    "### Import libraries"
   ]
  },
  {
   "cell_type": "code",
   "execution_count": 1,
   "id": "67e92ac7",
   "metadata": {},
   "outputs": [],
   "source": [
    "import os\n",
    "import torch\n",
    "import data\n",
    "import rnn\n",
    "import warnings\n",
    "warnings.filterwarnings('ignore')"
   ]
  },
  {
   "cell_type": "markdown",
   "id": "15360d5d",
   "metadata": {},
   "source": [
    "### Set device for analysis"
   ]
  },
  {
   "cell_type": "code",
   "execution_count": 2,
   "id": "447c5560",
   "metadata": {},
   "outputs": [
    {
     "data": {
      "text/plain": [
       "device(type='cpu')"
      ]
     },
     "execution_count": 2,
     "metadata": {},
     "output_type": "execute_result"
    }
   ],
   "source": [
    "# CPU or GPU device\n",
    "device = torch.device('cuda' if torch.cuda.is_available() else 'cpu')\n",
    "device"
   ]
  },
  {
   "cell_type": "markdown",
   "id": "2d8b957e",
   "metadata": {},
   "source": [
    "### Load training data and split into train and validation sets"
   ]
  },
  {
   "cell_type": "code",
   "execution_count": 3,
   "id": "344859c3",
   "metadata": {},
   "outputs": [],
   "source": [
    "# Create DL dataset\n",
    "ds = data.LabeledDataset(inputs=['action', 'reward'],\n",
    "                         outputs=['action', 'alpha_bin', 'beta_bin', 'alpha', 'beta'],\n",
    "                         path=os.path.join('data', 'synth_train_2000.csv'))"
   ]
  },
  {
   "cell_type": "markdown",
   "id": "271eb859",
   "metadata": {},
   "source": [
    "### Train and validate RNN model"
   ]
  },
  {
   "cell_type": "code",
   "execution_count": 4,
   "id": "43bab64a",
   "metadata": {},
   "outputs": [
    {
     "name": "stdout",
     "output_type": "stream",
     "text": [
      "================\n",
      "loss BCE action: 0.5475589600950479\n",
      "loss CE alpha: 0.3218827073648572\n",
      "loss CE beta: 0.32189628440886736\n",
      "loss MSE alpha: 0.5267407035886071\n",
      "loss MSE beta: 2.93957338501059\n",
      "Unexpected exception formatting exception. Falling back to standard exception\n"
     ]
    },
    {
     "name": "stderr",
     "output_type": "stream",
     "text": [
      "Traceback (most recent call last):\n",
      "  File \"/Users/amihalik/Documents/repos/DL_inference_RL_params/.venv/lib/python3.11/site-packages/IPython/core/interactiveshell.py\", line 3548, in run_code\n",
      "    exec(code_obj, self.user_global_ns, self.user_ns)\n",
      "  File \"/var/folders/4t/rl_701rs1bd005wdswph83kr0000gn/T/ipykernel_11902/1583735180.py\", line 5, in <module>\n",
      "    model, train_loss, val_loss = rnn.training_loop(ds, model, device, nepochs=28, fname='synth_trnn_28')\n",
      "                                 ^^^^^^^^^^^^^^^^^^^^^^^^^^^^^^^^^^^^^^^^^^^^^^^^^^^^^^^^^^^^^^^^^^^^^^^\n",
      "  File \"/Users/amihalik/Documents/repos/DL_inference_RL_params/rnn.py\", line 217, in training_loop\n",
      "  File \"/Users/amihalik/Documents/repos/DL_inference_RL_params/data.py\", line 158, in __getitem__\n",
      "    X = super().__getitem__(idx)\n",
      "        ^^^^^^^^^^^^^^^^^^^^^^^^\n",
      "  File \"/Users/amihalik/Documents/repos/DL_inference_RL_params/data.py\", line 120, in __getitem__\n",
      "    df = self.df[self.df['agent'] == self.agent[idx]]\n",
      "                 ^^^^^^^^^^^^^^^^^^^^^^^^^^^^^^^^^^^\n",
      "  File \"/Users/amihalik/Documents/repos/DL_inference_RL_params/.venv/lib/python3.11/site-packages/pandas/core/ops/common.py\", line 76, in new_method\n",
      "    return method(self, other)\n",
      "           ^^^^^^^^^^^^^^^^^^^\n",
      "  File \"/Users/amihalik/Documents/repos/DL_inference_RL_params/.venv/lib/python3.11/site-packages/pandas/core/arraylike.py\", line 40, in __eq__\n",
      "    return self._cmp_method(other, operator.eq)\n",
      "           ^^^^^^^^^^^^^^^^^^^^^^^^^^^^^^^^^^^^\n",
      "  File \"/Users/amihalik/Documents/repos/DL_inference_RL_params/.venv/lib/python3.11/site-packages/pandas/core/series.py\", line 5799, in _cmp_method\n",
      "    res_values = ops.comparison_op(lvalues, rvalues, op)\n",
      "                 ^^^^^^^^^^^^^^^^^^^^^^^^^^^^^^^^^^^^^^^\n",
      "  File \"/Users/amihalik/Documents/repos/DL_inference_RL_params/.venv/lib/python3.11/site-packages/pandas/core/ops/array_ops.py\", line 323, in comparison_op\n",
      "    raise ValueError(\n",
      "ValueError: ('Lengths must match to compare', (2000000,), (400,))\n",
      "\n",
      "During handling of the above exception, another exception occurred:\n",
      "\n",
      "Traceback (most recent call last):\n",
      "  File \"/Users/amihalik/Documents/repos/DL_inference_RL_params/.venv/lib/python3.11/site-packages/IPython/core/interactiveshell.py\", line 2142, in showtraceback\n",
      "    stb = self.InteractiveTB.structured_traceback(\n",
      "          ^^^^^^^^^^^^^^^^^^^^^^^^^^^^^^^^^^^^^^^^\n",
      "  File \"/Users/amihalik/Documents/repos/DL_inference_RL_params/.venv/lib/python3.11/site-packages/IPython/core/ultratb.py\", line 1435, in structured_traceback\n",
      "    return FormattedTB.structured_traceback(\n",
      "           ^^^^^^^^^^^^^^^^^^^^^^^^^^^^^^^^^\n",
      "  File \"/Users/amihalik/Documents/repos/DL_inference_RL_params/.venv/lib/python3.11/site-packages/IPython/core/ultratb.py\", line 1326, in structured_traceback\n",
      "    return VerboseTB.structured_traceback(\n",
      "           ^^^^^^^^^^^^^^^^^^^^^^^^^^^^^^^\n",
      "  File \"/Users/amihalik/Documents/repos/DL_inference_RL_params/.venv/lib/python3.11/site-packages/IPython/core/ultratb.py\", line 1173, in structured_traceback\n",
      "    formatted_exception = self.format_exception_as_a_whole(etype, evalue, etb, number_of_lines_of_context,\n",
      "                          ^^^^^^^^^^^^^^^^^^^^^^^^^^^^^^^^^^^^^^^^^^^^^^^^^^^^^^^^^^^^^^^^^^^^^^^^^^^^^^^^\n",
      "  File \"/Users/amihalik/Documents/repos/DL_inference_RL_params/.venv/lib/python3.11/site-packages/IPython/core/ultratb.py\", line 1088, in format_exception_as_a_whole\n",
      "    frames.append(self.format_record(record))\n",
      "                  ^^^^^^^^^^^^^^^^^^^^^^^^^^\n",
      "  File \"/Users/amihalik/Documents/repos/DL_inference_RL_params/.venv/lib/python3.11/site-packages/IPython/core/ultratb.py\", line 970, in format_record\n",
      "    frame_info.lines, Colors, self.has_colors, lvals\n",
      "    ^^^^^^^^^^^^^^^^\n",
      "  File \"/Users/amihalik/Documents/repos/DL_inference_RL_params/.venv/lib/python3.11/site-packages/IPython/core/ultratb.py\", line 792, in lines\n",
      "    return self._sd.lines\n",
      "           ^^^^^^^^^^^^^^\n",
      "  File \"/Users/amihalik/Documents/repos/DL_inference_RL_params/.venv/lib/python3.11/site-packages/stack_data/utils.py\", line 145, in cached_property_wrapper\n",
      "    value = obj.__dict__[self.func.__name__] = self.func(obj)\n",
      "                                               ^^^^^^^^^^^^^^\n",
      "  File \"/Users/amihalik/Documents/repos/DL_inference_RL_params/.venv/lib/python3.11/site-packages/stack_data/core.py\", line 734, in lines\n",
      "    pieces = self.included_pieces\n",
      "             ^^^^^^^^^^^^^^^^^^^^\n",
      "  File \"/Users/amihalik/Documents/repos/DL_inference_RL_params/.venv/lib/python3.11/site-packages/stack_data/utils.py\", line 145, in cached_property_wrapper\n",
      "    value = obj.__dict__[self.func.__name__] = self.func(obj)\n",
      "                                               ^^^^^^^^^^^^^^\n",
      "  File \"/Users/amihalik/Documents/repos/DL_inference_RL_params/.venv/lib/python3.11/site-packages/stack_data/core.py\", line 681, in included_pieces\n",
      "    pos = scope_pieces.index(self.executing_piece)\n",
      "                             ^^^^^^^^^^^^^^^^^^^^\n",
      "  File \"/Users/amihalik/Documents/repos/DL_inference_RL_params/.venv/lib/python3.11/site-packages/stack_data/utils.py\", line 145, in cached_property_wrapper\n",
      "    value = obj.__dict__[self.func.__name__] = self.func(obj)\n",
      "                                               ^^^^^^^^^^^^^^\n",
      "  File \"/Users/amihalik/Documents/repos/DL_inference_RL_params/.venv/lib/python3.11/site-packages/stack_data/core.py\", line 660, in executing_piece\n",
      "    return only(\n",
      "           ^^^^^\n",
      "  File \"/Users/amihalik/Documents/repos/DL_inference_RL_params/.venv/lib/python3.11/site-packages/executing/executing.py\", line 116, in only\n",
      "    raise NotOneValueFound('Expected one value, found 0')\n",
      "executing.executing.NotOneValueFound: Expected one value, found 0\n"
     ]
    }
   ],
   "source": [
    "# Instantiate RNN model\n",
    "model = rnn.GRU(ds, hidden_size=32, dropout=0.2) \n",
    "\n",
    "# Train RNN model\n",
    "model, train_loss, val_loss = rnn.training_loop(ds, model, device, nepochs=28, fname='synth_trnn_28') "
   ]
  }
 ],
 "metadata": {
  "kernelspec": {
   "display_name": "Python 3 (ipykernel)",
   "language": "python",
   "name": "python3"
  },
  "language_info": {
   "codemirror_mode": {
    "name": "ipython",
    "version": 3
   },
   "file_extension": ".py",
   "mimetype": "text/x-python",
   "name": "python",
   "nbconvert_exporter": "python",
   "pygments_lexer": "ipython3",
   "version": "3.11.4"
  }
 },
 "nbformat": 4,
 "nbformat_minor": 5
}
