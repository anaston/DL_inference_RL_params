{
 "cells": [
  {
   "cell_type": "markdown",
   "metadata": {},
   "source": [
    "### Import libraries"
   ]
  },
  {
   "cell_type": "code",
   "execution_count": 1,
   "metadata": {},
   "outputs": [],
   "source": [
    "import os\n",
    "import numpy as np\n",
    "import pandas as pd \n",
    "import qlearner as ql\n",
    "import torch\n",
    "from torch.utils.data import DataLoader\n",
    "from torch.utils.data import random_split\n",
    "import torch.nn as nn\n",
    "import data\n",
    "import rnn\n",
    "import warnings\n",
    "warnings.filterwarnings('ignore')\n",
    "import matplotlib.pyplot as plt\n",
    "import seaborn as sns"
   ]
  },
  {
   "cell_type": "markdown",
   "metadata": {},
   "source": [
    "### Set theme for plots"
   ]
  },
  {
   "cell_type": "code",
   "execution_count": 2,
   "metadata": {},
   "outputs": [],
   "source": [
    "# Set seaborn style\n",
    "rc_defaults = {'figure.titlesize': 24, 'axes.labelsize': 20,\n",
    "               'xtick.labelsize': 20, 'ytick.labelsize': 20,\n",
    "               'lines.linewidth': 3}\n",
    "sns.set_theme(style='ticks', rc=rc_defaults)"
   ]
  },
  {
   "cell_type": "markdown",
   "metadata": {},
   "source": [
    "### Simulate data"
   ]
  },
  {
   "cell_type": "code",
   "execution_count": null,
   "metadata": {},
   "outputs": [],
   "source": [
    "# Number of agents\n",
    "train_nagents = 2000\n",
    "test_nagents = 100\n",
    "\n",
    "# Number of trials per agent\n",
    "ntrials = 1000\n",
    "\n",
    "# Number of trials per block\n",
    "block_size = 100\n",
    "\n",
    "# Variables to save in synthetic data\n",
    "columns = ['agent', 'trial', 'block', 'action', 'reward', 'offer1', 'offer2', 'alpha', 'beta', 'alpha_bin', 'beta_bin']\n",
    "\n",
    "# Initialize list to store training data\n",
    "train_data = []\n",
    "\n",
    "for agent in range(0, train_nagents):\n",
    "    # Set parameters\n",
    "    alpha_gen = ql.ParamGeneratorStat(name='alpha', func=np.random.uniform, low=0, high=1, ntrials=ntrials)\n",
    "    beta_gen = ql.ParamGeneratorNonStat(name='beta', func=np.random.uniform, low=0, high=10, ntrials=ntrials,\n",
    "                                        max_switch=np.random.choice([2, 3, 4]), prob_to_switch=0.005)\n",
    "\n",
    "    # Simulate data for agent\n",
    "    qlearner = ql.QLearner4Armed(agent, alpha_gen=alpha_gen, beta_gen=beta_gen, ntrials=ntrials, block_size=block_size).simulate()\n",
    "    \n",
    "    # Append data to list\n",
    "    train_data.append(qlearner.format_df(columns=columns))\n",
    "\n",
    "# Concatenate training data into one dataframe\n",
    "df_train_data = pd.concat(train_data).reset_index().drop(columns=['index'])\n",
    "\n",
    "# Save data\n",
    "fname = os.path.join('data', f'synth_train_4armed.csv')\n",
    "df_train_data.to_csv(fname, index=False)\n",
    "\n",
    "# Initialize list to store test data\n",
    "test_data = []\n",
    "\n",
    "for agent in range(0, test_nagents):\n",
    "    # Set parameters\n",
    "    alpha_gen = ql.ParamGeneratorStat(name='alpha', func=np.random.uniform, low=0, high=1, ntrials=ntrials)\n",
    "    beta_gen = ql.ParamGeneratorNonStat(name='beta', func=np.random.uniform, low=0, high=10, ntrials=ntrials,\n",
    "                                        max_switch=np.random.choice([2, 3, 4]), prob_to_switch=0.005)\n",
    "\n",
    "    # Simulate data for agent\n",
    "    qlearner = ql.QLearner4Armed(agent, alpha_gen=alpha_gen, beta_gen=beta_gen,\n",
    "                                 ntrials=ntrials, block_size=block_size).simulate()\n",
    "\n",
    "    # Append results to list\n",
    "    test_data.append(qlearner.format_df(columns=columns))\n",
    "\n",
    "# Concatenate test data into one dataframe\n",
    "df_test_data = pd.concat(test_data).reset_index().drop(columns=['index'])\n",
    "\n",
    "# Save data\n",
    "fname = os.path.join('data', 'synth_test_4armed.csv')\n",
    "df_test_data.to_csv(fname, index=False)\n",
    "\n",
    "# Inspect test data of first 10 agents\n",
    "for param in ['alpha', 'beta']:\n",
    "    sns.relplot(data=df_test_data[df_test_data['agent'].isin(np.arange(10))],\n",
    "            kind='line', x='trial', y=param, col='agent')"
   ]
  },
  {
   "cell_type": "markdown",
   "metadata": {},
   "source": [
    "### Train and evaluate model"
   ]
  },
  {
   "cell_type": "code",
   "execution_count": null,
   "metadata": {},
   "outputs": [],
   "source": [
    "# CPU or GPU device\n",
    "device = torch.device('cuda' if torch.cuda.is_available() else 'cpu')\n",
    "\n",
    "# Create DL dataset for training\n",
    "train_ds = data.LabeledDataset(inputs=['action', 'offer', 'reward'],\n",
    "                               outputs=['action', 'alpha_bin', 'beta_bin', 'alpha', 'beta'],\n",
    "                               df=df_test_data)\n",
    "\n",
    "# Instantiate RNN model\n",
    "model = rnn.GRU(train_ds, hidden_size=32, dropout=0.2) \n",
    "\n",
    "# Train RNN model\n",
    "model, train_loss, val_loss = rnn.training_loop(train_ds, model, device, nepochs=5,\n",
    "                                                fname='synth_trnn_4armed')\n",
    "\n",
    "# Create DL dataset for testing\n",
    "test_ds = data.LabeledDataset(inputs=['action', 'offer', 'reward'],\n",
    "                              outputs=['alpha', 'beta'],\n",
    "                              df=df_test_data)\n",
    "\n",
    "# Instantiate Data Loader for test data\n",
    "test_loader = DataLoader(test_ds, shuffle=False, batch_size=1)\n",
    "\n",
    "# Change to evaluation mode\n",
    "model.eval()\n",
    "\n",
    "# Initialize loss objects\n",
    "loss_obj = {o: rnn.Loss('MSE', weight=1) for o in test_ds.outputs}\n",
    "\n",
    "# Initialize losses as numpy arrays\n",
    "loss = np.zeros((test_ds.nagents, len(test_ds.outputs)))\n",
    "\n",
    "# Initialize model predictions as numpy arrays\n",
    "y_alpha = np.zeros((test_ds.nagents, test_ds.ntrials))\n",
    "y_beta = np.zeros((test_ds.nagents, test_ds.ntrials))\n",
    "\n",
    "# Evaluate model on test data\n",
    "for i, (X, y_true) in enumerate(test_loader):\n",
    "    # Forward pass\n",
    "    model(X)\n",
    "    \n",
    "    # Save predictions for plotting\n",
    "    y_alpha[i, :] = model.y['alpha'].flatten().tolist()\n",
    "    y_beta[i, :] = model.y['beta'].flatten().tolist()\n",
    "    \n",
    "    # Compute losses\n",
    "    loss[i, :] = [loss_obj[val](model.y[val], y_true[j]).item() for j, val in enumerate(loss_obj.keys())]\n",
    "\n",
    "# Print losses\n",
    "for i, val in enumerate(loss_obj.keys()):\n",
    "    print(f\"tRNN {loss_obj[val].name} {val} loss: {loss[:, i].mean():.5f} +/- {loss[:, i].std():.5f}\")"
   ]
  },
  {
   "cell_type": "markdown",
   "metadata": {},
   "source": [
    "### Plot parameter recovery"
   ]
  },
  {
   "cell_type": "code",
   "execution_count": null,
   "metadata": {},
   "outputs": [],
   "source": [
    "# Collect targets and predictions in a dataframe\n",
    "df_recovery = pd.concat([df_test_data[['agent', 'trial', 'alpha', 'beta']].assign(data='Target'),\n",
    "                         df_test_data[['agent', 'trial']].assign(data='t-RNN', alpha=y_alpha.flatten(), beta=y_beta.flatten())])\n",
    "\n",
    "# Plot parameter recovery for alpha\n",
    "g = sns.relplot(data=df_recovery[df_recovery['agent'].isin(np.arange(3))],\n",
    "                kind='line', x='trial', y='alpha', col='agent', hue='data',\n",
    "                height=1.5, aspect=2.2)\n",
    "g.set(xlim=(0, ntrials), ylim=(-0.2, 1.4));\n",
    "\n",
    "# Plot parameter recovery for beta\n",
    "g = sns.relplot(data=df_recovery[df_recovery['agent'].isin(np.arange(3))],\n",
    "                kind='line', x='trial', y='beta', col='agent', hue='data',\n",
    "                height=1.5, aspect=2.2)\n",
    "g.set(xlim=(0, ntrials), ylim=(-0.1, 10.1));"
   ]
  }
 ],
 "metadata": {
  "kernelspec": {
   "display_name": ".venv",
   "language": "python",
   "name": "python3"
  },
  "language_info": {
   "codemirror_mode": {
    "name": "ipython",
    "version": 3
   },
   "file_extension": ".py",
   "mimetype": "text/x-python",
   "name": "python",
   "nbconvert_exporter": "python",
   "pygments_lexer": "ipython3",
   "version": "3.11.4"
  }
 },
 "nbformat": 4,
 "nbformat_minor": 2
}
