{
 "cells": [
  {
   "cell_type": "markdown",
   "metadata": {},
   "source": [
    "### Import libraries"
   ]
  },
  {
   "cell_type": "code",
   "execution_count": 1,
   "metadata": {},
   "outputs": [],
   "source": [
    "import os\n",
    "import numpy as np\n",
    "import pandas as pd \n",
    "import qlearner as ql\n",
    "import torch\n",
    "from torch.utils.data import DataLoader\n",
    "from torch.utils.data import random_split\n",
    "import torch.nn as nn\n",
    "import data\n",
    "import rnn\n",
    "import warnings\n",
    "warnings.filterwarnings('ignore')\n",
    "import matplotlib.pyplot as plt\n",
    "import seaborn as sns"
   ]
  },
  {
   "cell_type": "markdown",
   "metadata": {},
   "source": [
    "### Set theme for plots"
   ]
  },
  {
   "cell_type": "code",
   "execution_count": 3,
   "metadata": {},
   "outputs": [],
   "source": [
    "# Set seaborn style\n",
    "rc_defaults = {'figure.titlesize': 24, 'axes.labelsize': 20,\n",
    "               'xtick.labelsize': 20, 'ytick.labelsize': 20,\n",
    "               'lines.linewidth': 3}\n",
    "sns.set_theme(style='ticks', rc=rc_defaults)"
   ]
  },
  {
   "cell_type": "markdown",
   "metadata": {},
   "source": [
    "### Simulate data"
   ]
  },
  {
   "cell_type": "code",
   "execution_count": 2,
   "metadata": {},
   "outputs": [],
   "source": [
    "# Number of agents\n",
    "train_nagents = 2000\n",
    "test_nagents = 100\n",
    "\n",
    "# Number of trials per agent\n",
    "ntrials = 1000\n",
    "\n",
    "# Number of trials per block\n",
    "block_size = 100\n",
    "\n",
    "# Initialize list to store training data\n",
    "train_data = []\n",
    "\n",
    "for agent in range(0, train_nagents):\n",
    "    # Set parameters\n",
    "    alpha_gen = ql.ParamGeneratorStat(name='alpha', func=np.random.uniform, low=0, high=1, ntrials=ntrials,\n",
    "                                         max_switch=np.random.choice([2, 3, 4]), prob_to_switch=0.005)\n",
    "    beta_gen = ql.ParamGeneratorNonStat(name='beta', func=np.random.uniform, low=0, high=10, ntrials=ntrials,\n",
    "                                        max_switch=np.random.choice([2, 3, 4]), prob_to_switch=0.005)\n",
    "\n",
    "    # Simulate data for agent\n",
    "    qlearner = ql.QLearner4Armed(agent, alpha_gen=alpha_gen, beta_gen=beta_gen, ntrials=ntrials, block_size=block_size).simulate()\n",
    "    \n",
    "    # Append data to list\n",
    "    train_data.append(qlearner.format_df(columns=['agent', 'trial', 'block', 'action', 'reward', 'alpha', 'beta', 'alpha_bin', 'beta_bin']))\n",
    "\n",
    "# Concatenate training data into one dataframe\n",
    "df_train_data = pd.concat(train_data).reset_index().drop(columns=['index'])\n",
    "\n",
    "# Save data\n",
    "fname = os.path.join('data', f'synth_train_4armed.csv')\n",
    "df_train_data.to_csv(fname, index=False)\n",
    "\n",
    "# Initialize list to store test data\n",
    "test_data = []\n",
    "\n",
    "for agent in range(0, 100):\n",
    "    # Set parameters\n",
    "    alpha_gen = ql.ParamGeneratorStat(name='alpha', func=np.random.uniform, low=0, high=1, ntrials=ntrials,\n",
    "                                         max_switch=np.random.choice([2, 3, 4]), prob_to_switch=0.005)\n",
    "    beta_gen = ql.ParamGeneratorNonStat(name='beta', func=np.random.uniform, low=0, high=10, ntrials=ntrials,\n",
    "                                        max_switch=np.random.choice([2, 3, 4]), prob_to_switch=0.005)\n",
    "\n",
    "    # Simulate data for agent\n",
    "    qlearner = ql.QLearner4Armed(agent, alpha_gen=alpha_gen, beta_gen=beta_gen,\n",
    "                                 ntrials=ntrials, block_size=block_size).simulate()\n",
    "\n",
    "    # Append results to list\n",
    "    test_data.append(qlearner.format_df(columns=['agent', 'trial', 'action', 'reward', 'alpha', 'beta']))\n",
    "\n",
    "# Concatenate test data into one dataframe\n",
    "df_test_data = pd.concat(test_data).reset_index().drop(columns=['index'])\n",
    "\n",
    "# Save data\n",
    "fname = os.path.join('data', 'synth_test_4armed.csv')\n",
    "df_test_data.to_csv(fname, index=False)\n",
    "\n",
    "# Inspect test data\n",
    "for param in ['alpha', 'beta']:\n",
    "    sns.relplot(data=df_test_data[df_test_data['agent'].isin(np.arange(10))],\n",
    "            kind='line', x='trial', y=param, col='agent')"
   ]
  },
  {
   "cell_type": "markdown",
   "metadata": {},
   "source": [
    "### Train model"
   ]
  },
  {
   "cell_type": "code",
   "execution_count": null,
   "metadata": {},
   "outputs": [],
   "source": [
    "# Create DL dataset\n",
    "ds = data.LabeledDataset(['action', 'alpha_bin', 'beta_bin', 'alpha', 'beta'],\n",
    "                         path=os.path.join('data', 'synth_train_4armed.csv'))\n",
    "# Split dataset\n",
    "train_ds, val_ds = random_split(ds, [0.8,  0.2])\n",
    "\n",
    "# CPU or GPU device\n",
    "device = torch.device('cuda' if torch.cuda.is_available() else 'cpu')\n",
    "\n",
    "# Instantiate RNN model\n",
    "model = rnn.GRU(input_size=ds.nactions+1,\n",
    "                hidden_size=32,\n",
    "                alpha_embedding_size=ds.nbins_alpha,\n",
    "                beta_embedding_size=ds.nbins_beta,\n",
    "                output_size=ds.nactions,\n",
    "                dropout=0.2) \n",
    "\n",
    "# Instantiate Data Loaders for traning and validation data\n",
    "train_loader = DataLoader(train_ds, shuffle=False, batch_size=1)\n",
    "val_loader = DataLoader(val_ds, shuffle=False, batch_size=1)\n",
    "\n",
    "# Train RNN model\n",
    "model, train_loss, val_loss = rnn.training_loop(model, device, train_loader, val_loader,\n",
    "                                                'synth_trnn_4armed', nepochs=5) "
   ]
  },
  {
   "cell_type": "markdown",
   "metadata": {},
   "source": [
    "### Evaluate model"
   ]
  },
  {
   "cell_type": "code",
   "execution_count": null,
   "metadata": {},
   "outputs": [],
   "source": [
    "# Create DL dataset\n",
    "ds = data.LabeledDataset(['action', 'alpha', 'beta'], df=df_test_data)\n",
    "\n",
    "# Instantiate Data Loader for test data\n",
    "test_loader = DataLoader(ds, shuffle=False, batch_size=1)\n",
    "\n",
    "# Instantiate RNN model\n",
    "model = rnn.GRU(input_size=ds.nactions+1,\n",
    "                hidden_size=32,\n",
    "                alpha_embedding_size=5,\n",
    "                beta_embedding_size=5,\n",
    "                output_size=ds.nactions,\n",
    "                dropout=0) \n",
    "\n",
    "# Load checkpoint for model inference\n",
    "cp = torch.load(os.path.join('checkpoint', 'synth_trnn_4armed_train.pth'),\n",
    "                  map_location='cpu')\n",
    "print(f\"Number of epochs in training: {cp['epoch']}\")\n",
    "\n",
    "# Assign model state\n",
    "model.load_state_dict(cp['model_state'])\n",
    "\n",
    "# Change to evaluation mode\n",
    "model.eval();\n",
    "\n",
    "# Initialize loss dictionary\n",
    "loss = {'action': {'name': 'BCE', 'values': np.zeros(test_nagents)},\n",
    "        'alpha': {'name': 'MSE alpha', 'values': np.zeros(test_nagents)},\n",
    "        'beta': {'name': 'MSE beta', 'values': np.zeros(test_nagents)}}\n",
    "\n",
    "# Initialize model predictions\n",
    "y_alpha_all = np.zeros((test_nagents, ntrials))\n",
    "y_beta_all = np.zeros((test_nagents, ntrials))\n",
    "\n",
    "# Evaluate model on test data\n",
    "for i, (X, y_true) in enumerate(test_loader):\n",
    "    # Forward pass\n",
    "    y_action, _, _, y_alpha, y_beta, _, _ = model(X)\n",
    "    \n",
    "    # Compute loss\n",
    "    # NB: tolerance (1e-10) and diviseion by 10  is based on original implementation\n",
    "    loss['action']['values'][i] = nn.BCELoss()(y_action[:,:,0]+1e-10, y_true[0][:,:,0]).item()\n",
    "    loss['alpha']['values'][i] = nn.MSELoss()(y_alpha, y_true[1]).item()\n",
    "    loss['beta']['values'][i] = nn.MSELoss()(y_beta/10, y_true[2]/10).item()\n",
    "\n",
    "    # Save predictions for plotting\n",
    "    y_alpha_all[i, :] = y_alpha.cpu().detach().numpy().flatten()\n",
    "    y_beta_all[i, :] = y_beta.cpu().detach().numpy().flatten()\n",
    "\n",
    "# Print losses\n",
    "for l in loss:\n",
    "    print(f\"tRNN {loss[l]['name']} loss: {loss[l]['values'].mean():.5f} +/- {loss[l]['values'].std():.5f}\")"
   ]
  },
  {
   "cell_type": "markdown",
   "metadata": {},
   "source": [
    "### Plot parameter recovery"
   ]
  },
  {
   "cell_type": "code",
   "execution_count": null,
   "metadata": {},
   "outputs": [],
   "source": [
    "# Collect targets and predictions in a dataframe\n",
    "df_recovery = pd.concat([df_test_data[['agent', 'trial', 'alpha', 'beta']].assign(data='Target'),\n",
    "                         df_test_data[['agent', 'trial']].assign(data='t-RNN',\n",
    "                                                                 alpha=y_alpha_all.flatten(),\n",
    "                                                                 beta=y_beta_all.flatten())])\n",
    "\n",
    "# Plot parameter recovery for alpha\n",
    "g = sns.relplot(data=df_recovery[df_recovery['agent'].isin(np.arange(3))],\n",
    "                kind='line', x='trial', y='alpha', col='agent', hue='data',\n",
    "                height=1.5, aspect=2.2)\n",
    "g.set(xlim=(0, ntrials), ylim=(-0.2, 1.4));\n",
    "\n",
    "# Plot parameter recovery for beta\n",
    "g = sns.relplot(data=df_recovery[df_recovery['agent'].isin(np.arange(3))],\n",
    "                kind='line', x='trial', y='beta', col='agent', hue='data',\n",
    "                height=1.5, aspect=2.2)\n",
    "g.set(xlim=(0, ntrials), ylim=(-0.1, 10.1));"
   ]
  }
 ],
 "metadata": {
  "kernelspec": {
   "display_name": ".venv",
   "language": "python",
   "name": "python3"
  },
  "language_info": {
   "codemirror_mode": {
    "name": "ipython",
    "version": 3
   },
   "file_extension": ".py",
   "mimetype": "text/x-python",
   "name": "python",
   "nbconvert_exporter": "python",
   "pygments_lexer": "ipython3",
   "version": "3.11.4"
  }
 },
 "nbformat": 4,
 "nbformat_minor": 2
}
