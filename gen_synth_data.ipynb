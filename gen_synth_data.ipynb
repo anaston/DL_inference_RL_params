{
 "cells": [
  {
   "cell_type": "markdown",
   "id": "86567ebd",
   "metadata": {},
   "source": [
    "### Import libraries"
   ]
  },
  {
   "cell_type": "code",
   "execution_count": 2,
   "id": "ef3ed444",
   "metadata": {},
   "outputs": [],
   "source": [
    "import os\n",
    "import numpy as np\n",
    "import pandas as pd \n",
    "import qlearner as ql"
   ]
  },
  {
   "cell_type": "markdown",
   "id": "a6cedaf9",
   "metadata": {},
   "source": [
    "### Set parameters for analysis"
   ]
  },
  {
   "cell_type": "code",
   "execution_count": 3,
   "id": "f86de4a2",
   "metadata": {},
   "outputs": [],
   "source": [
    "# Number of trials per agent\n",
    "ntrials = 1000\n",
    "\n",
    "# Number of trials per block\n",
    "block_size = 100"
   ]
  },
  {
   "cell_type": "markdown",
   "id": "70915d2c",
   "metadata": {},
   "source": [
    "### Simulate non-stationary training data"
   ]
  },
  {
   "cell_type": "code",
   "execution_count": 4,
   "id": "ace86c6a",
   "metadata": {},
   "outputs": [],
   "source": [
    "# Initialize list to store training data\n",
    "train_data = []\n",
    "\n",
    "for agent in range(0, 20):\n",
    "    # Initialize agent\n",
    "    qlearner = ql.QLearnerNonStationary(agent, {'alpha': {'func': np.random.uniform, 'func_kwargs': {'low': 0, 'high': 1}},\n",
    "                                                'beta': {'func': np.random.uniform, 'func_kwargs': {'low': 0, 'high': 10}}},\n",
    "                                        ntrials=ntrials, block_size=block_size, prob_to_switch=0.005, max_switch=np.random.choice([2,3,4]))\n",
    "\n",
    "    # Simulate data for agent\n",
    "    df = qlearner.simulate()\n",
    "    \n",
    "    # Append data to list\n",
    "    train_data.append(qlearner.to_df(columns=[\"action\", \"reward\", \"alpha\", \"beta\", \"alpha_bin\", \"beta_bin\"]))"
   ]
  },
  {
   "cell_type": "markdown",
   "id": "141251a3",
   "metadata": {},
   "source": [
    "### Save training data"
   ]
  },
  {
   "cell_type": "code",
   "execution_count": 12,
   "id": "4eb5c350",
   "metadata": {},
   "outputs": [],
   "source": [
    "# Concatenate training data into one dataframe\n",
    "df_train_data = pd.concat(train_data).reset_index().drop(columns=['index'])\n",
    "\n",
    "# Save data\n",
    "fname = os.path.join(\"data\", f\"synth_train_{df_train_data['agent'].nunique()}.csv\")\n",
    "df_train_data.to_csv(fname, index=False)"
   ]
  },
  {
   "cell_type": "markdown",
   "id": "bae52342",
   "metadata": {},
   "source": [
    "### Simulate stationary test data"
   ]
  },
  {
   "cell_type": "code",
   "execution_count": 13,
   "id": "a2b1fa2f",
   "metadata": {},
   "outputs": [],
   "source": [
    "# Initialize list to store test data\n",
    "test_data = []\n",
    "\n",
    "for agent in range(0, 10):\n",
    "    # Initialize agent\n",
    "    qlearner = ql.QLearnerStationary(agent, {'alpha': {'func': np.random.uniform, 'func_kwargs': {'low': 0, 'high': 1}},\n",
    "                                             'beta': {'func': np.random.uniform, 'func_kwargs': {'low': 0, 'high': 10}}},\n",
    "                                     ntrials=ntrials, block_size=block_size)\n",
    "\n",
    "    # Simulate data for agent\n",
    "    qlearner.simulate()\n",
    "\n",
    "    # Append results to list\n",
    "    test_data.append(qlearner.to_df(columns=[\"action\", \"reward\", \"alpha\", \"beta\"]))"
   ]
  },
  {
   "cell_type": "markdown",
   "id": "e7972fdc",
   "metadata": {},
   "source": [
    "### Simulate non-stationary test data"
   ]
  },
  {
   "cell_type": "code",
   "execution_count": 14,
   "id": "21b24601",
   "metadata": {},
   "outputs": [],
   "source": [
    "for agent in range(10, 20):\n",
    "    # Initialize agent\n",
    "    qlearner = ql.QLearnerNonStationary(agent, {'alpha': {'func': np.random.uniform, 'func_kwargs': {'low': 0, 'high': 1}},\n",
    "                                                'beta': {'func': np.random.uniform, 'func_kwargs': {'low': 0, 'high': 10}}},\n",
    "                                        ntrials=ntrials, block_size=block_size, prob_to_switch=0.005, max_switch=np.random.choice([2,3,4]))\n",
    "\n",
    "    # Simulate data for agent\n",
    "    df = qlearner.simulate()\n",
    "    \n",
    "    # Append data to list\n",
    "    test_data.append(qlearner.to_df(columns=[\"action\", \"reward\", \"alpha\", \"beta\"]))"
   ]
  },
  {
   "cell_type": "markdown",
   "id": "30798f18",
   "metadata": {},
   "source": [
    "### Simulate random walk test data"
   ]
  },
  {
   "cell_type": "code",
   "execution_count": 15,
   "id": "0611d803",
   "metadata": {},
   "outputs": [],
   "source": [
    "for agent in range(20, 30):\n",
    "    # Initialize agent\n",
    "    qlearner = ql.QLearnerRandomWalk(agent, {'alpha': {'func': np.random.normal, 'func_kwargs': {'loc': 0, 'scale': 1}},\n",
    "                                             'beta': {'func': np.random.normal, 'func_kwargs': {'loc': 1, 'scale': 1}}},\n",
    "                                     ntrials=ntrials, block_size=block_size, drift_rate={'alpha': 0.1, 'beta': 0.05})\n",
    "\n",
    "    # Simulate data for agent\n",
    "    df = qlearner.simulate()\n",
    "    \n",
    "    # Append data to list\n",
    "    test_data.append(qlearner.to_df(columns=[\"action\", \"reward\", \"alpha\", \"beta\"]))"
   ]
  },
  {
   "cell_type": "markdown",
   "id": "3ba97372",
   "metadata": {},
   "source": [
    "### Save test data"
   ]
  },
  {
   "cell_type": "code",
   "execution_count": 16,
   "id": "064b36c2",
   "metadata": {},
   "outputs": [],
   "source": [
    "# Concatenate test data into one dataframe\n",
    "df_test_data = pd.concat(test_data).reset_index().drop(columns=['index'])\n",
    "\n",
    "# Save data\n",
    "fname = os.path.join(\"data\", \"synth_test.csv\")\n",
    "df_test_data.to_csv(fname, index=False)"
   ]
  }
 ],
 "metadata": {
  "kernelspec": {
   "display_name": "Python 3 (ipykernel)",
   "language": "python",
   "name": "python3"
  },
  "language_info": {
   "codemirror_mode": {
    "name": "ipython",
    "version": 3
   },
   "file_extension": ".py",
   "mimetype": "text/x-python",
   "name": "python",
   "nbconvert_exporter": "python",
   "pygments_lexer": "ipython3",
   "version": "3.11.4"
  }
 },
 "nbformat": 4,
 "nbformat_minor": 5
}
